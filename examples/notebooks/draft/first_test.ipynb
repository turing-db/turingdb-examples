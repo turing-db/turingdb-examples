{
 "cells": [
  {
   "cell_type": "code",
   "execution_count": null,
   "id": "8108d9b5-4ba8-4319-b3cc-a0b6423065ae",
   "metadata": {},
   "outputs": [],
   "source": []
  },
  {
   "cell_type": "code",
   "execution_count": 3,
   "id": "a8460da7-2fbb-4063-89c6-15ba0cda74c9",
   "metadata": {},
   "outputs": [],
   "source": [
    "from turingdb import TuringDB\n",
    "\n",
    "client = TuringDB(host=\"http://localhost:6666\")\n"
   ]
  },
  {
   "cell_type": "code",
   "execution_count": 4,
   "id": "8357d049-a352-4cac-bc05-21e16b53062e",
   "metadata": {},
   "outputs": [],
   "source": [
    "# Create a new graph\n",
    "client.query('CREATE GRAPH mygraph')\n",
    "client.set_graph('mygraph')"
   ]
  },
  {
   "cell_type": "code",
   "execution_count": 5,
   "id": "ff74f946-b322-4331-9f57-cabef3b87d88",
   "metadata": {},
   "outputs": [
    {
     "data": {
      "text/html": [
       "<div>\n",
       "<style scoped>\n",
       "    .dataframe tbody tr th:only-of-type {\n",
       "        vertical-align: middle;\n",
       "    }\n",
       "\n",
       "    .dataframe tbody tr th {\n",
       "        vertical-align: top;\n",
       "    }\n",
       "\n",
       "    .dataframe thead th {\n",
       "        text-align: right;\n",
       "    }\n",
       "</style>\n",
       "<table border=\"1\" class=\"dataframe\">\n",
       "  <thead>\n",
       "    <tr style=\"text-align: right;\">\n",
       "      <th></th>\n",
       "    </tr>\n",
       "  </thead>\n",
       "  <tbody>\n",
       "  </tbody>\n",
       "</table>\n",
       "</div>"
      ],
      "text/plain": [
       "Empty DataFrame\n",
       "Columns: []\n",
       "Index: []"
      ]
     },
     "execution_count": 5,
     "metadata": {},
     "output_type": "execute_result"
    }
   ],
   "source": [
    "\n",
    "# Create a new change on the graph\n",
    "change = client.query(\"CHANGE NEW\")[\"Change ID\"][0]\n",
    "\n",
    "# Checkout into the change\n",
    "client.checkout(change=change)\n",
    "\n",
    "# Create a node Person (Jane) - Edge (knows) - node (John)\n",
    "client.query('CREATE (n:Person {Name:\"Jane\"})-[e:knows]-(m:Person {Name:\"John\"})')\n",
    "\n",
    "# Commit the change\n",
    "client.query(\"COMMIT\")\n",
    "client.query(\"CHANGE SUBMIT\")"
   ]
  },
  {
   "cell_type": "code",
   "execution_count": 8,
   "id": "6975f0a2-32ce-4f5f-84ab-e297edc04f33",
   "metadata": {},
   "outputs": [
    {
     "name": "stdout",
     "output_type": "stream",
     "text": [
      "<turingdb.turingdb.TuringDB object at 0x79c1f97c2fd0>\n"
     ]
    }
   ],
   "source": [
    "print(client)"
   ]
  },
  {
   "cell_type": "code",
   "execution_count": null,
   "id": "12cc880d-76c8-46bc-bca0-999f30e1697f",
   "metadata": {},
   "outputs": [],
   "source": []
  },
  {
   "cell_type": "code",
   "execution_count": null,
   "id": "533812d1-96df-4d18-8d79-e7eaad443161",
   "metadata": {},
   "outputs": [],
   "source": []
  }
 ],
 "metadata": {
  "kernelspec": {
   "display_name": "Python 3 (ipykernel)",
   "language": "python",
   "name": "python3"
  },
  "language_info": {
   "codemirror_mode": {
    "name": "ipython",
    "version": 3
   },
   "file_extension": ".py",
   "mimetype": "text/x-python",
   "name": "python",
   "nbconvert_exporter": "python",
   "pygments_lexer": "ipython3",
   "version": "3.13.3"
  }
 },
 "nbformat": 4,
 "nbformat_minor": 5
}
