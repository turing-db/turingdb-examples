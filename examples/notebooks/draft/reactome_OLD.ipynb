{
 "cells": [
  {
   "cell_type": "code",
   "execution_count": null,
   "id": "2bbce7e6-f4fb-4c7d-9ccc-3dc35e5e6517",
   "metadata": {},
   "outputs": [],
   "source": []
  },
  {
   "cell_type": "code",
   "execution_count": 1,
   "id": "9090323a-9968-4e01-b8bf-17f73a12a111",
   "metadata": {},
   "outputs": [],
   "source": [
    "%load_ext autoreload\n",
    "%autoreload 2\n",
    "\n",
    "import os\n",
    "import pandas as pd\n",
    "\n",
    "import sys\n",
    "sys.path.insert(1, f\"{os.getenv('HOME')}/turingdb-examples/examples/functions\")\n",
    "\n",
    "from functions import *"
   ]
  },
  {
   "cell_type": "code",
   "execution_count": 2,
   "id": "4d8b132d-f5fa-43db-8e54-f08cf79d5413",
   "metadata": {},
   "outputs": [],
   "source": [
    "path_data = f\"{os.getenv('HOME')}/turingdb-examples/examples/data\"\n",
    "folder = \"reactome\""
   ]
  },
  {
   "cell_type": "code",
   "execution_count": null,
   "id": "a0d2c175-98ef-4dfc-9d9a-e7e771cb247c",
   "metadata": {},
   "outputs": [],
   "source": []
  },
  {
   "cell_type": "code",
   "execution_count": null,
   "id": "5d340a3b-3ef8-46b2-8aea-787dc760113b",
   "metadata": {},
   "outputs": [],
   "source": []
  },
  {
   "cell_type": "code",
   "execution_count": 3,
   "id": "1dac423b-0958-4df8-a854-20c65284898a",
   "metadata": {},
   "outputs": [],
   "source": [
    "import pandas as pd\n",
    "from turingdb import TuringDB\n",
    "import requests\n",
    "\n",
    "def download_reactome_data():\n",
    "    \"\"\"Download sample Reactome pathway data\"\"\"\n",
    "    # This would normally download from Reactome API or files\n",
    "    # For demo, using synthetic pathway data\n",
    "    pathway_data = {\n",
    "        'pathway_id': ['R-HSA-162582', 'R-HSA-5693532', 'R-HSA-111885'],\n",
    "        'pathway_name': ['Signal Transduction', 'DNA Repair', 'Opioid Signalling'],\n",
    "        'species': ['Homo sapiens', 'Homo sapiens', 'Homo sapiens']\n",
    "    }\n",
    "    \n",
    "    protein_data = {\n",
    "        'protein_id': ['P12345', 'P67890', 'P11111', 'P22222'],\n",
    "        'protein_name': ['TP53', 'BRCA1', 'OPRM1', 'ADCY1'],\n",
    "        'pathway_id': ['R-HSA-162582', 'R-HSA-5693532', 'R-HSA-111885', 'R-HSA-111885']\n",
    "    }\n",
    "    \n",
    "    interaction_data = {\n",
    "        'protein_a': ['P12345', 'P67890', 'P11111'],\n",
    "        'protein_b': ['P67890', 'P12345', 'P22222'],\n",
    "        'interaction_type': ['regulates', 'interacts_with', 'activates']\n",
    "    }\n",
    "    \n",
    "    return pd.DataFrame(pathway_data), pd.DataFrame(protein_data), pd.DataFrame(interaction_data)"
   ]
  },
  {
   "cell_type": "code",
   "execution_count": 4,
   "id": "724b57a6-ee3d-49f2-8248-dc2fbfdaf3f6",
   "metadata": {},
   "outputs": [
    {
     "data": {
      "text/plain": [
       "(      pathway_id         pathway_name       species\n",
       " 0   R-HSA-162582  Signal Transduction  Homo sapiens\n",
       " 1  R-HSA-5693532           DNA Repair  Homo sapiens\n",
       " 2   R-HSA-111885    Opioid Signalling  Homo sapiens,\n",
       "   protein_id protein_name     pathway_id\n",
       " 0     P12345         TP53   R-HSA-162582\n",
       " 1     P67890        BRCA1  R-HSA-5693532\n",
       " 2     P11111        OPRM1   R-HSA-111885\n",
       " 3     P22222        ADCY1   R-HSA-111885,\n",
       "   protein_a protein_b interaction_type\n",
       " 0    P12345    P67890        regulates\n",
       " 1    P67890    P12345   interacts_with\n",
       " 2    P11111    P22222        activates)"
      ]
     },
     "execution_count": 4,
     "metadata": {},
     "output_type": "execute_result"
    }
   ],
   "source": [
    "download_reactome_data()"
   ]
  },
  {
   "cell_type": "code",
   "execution_count": null,
   "id": "52882545-20d6-4767-84c8-de255a7e8acc",
   "metadata": {},
   "outputs": [],
   "source": []
  }
 ],
 "metadata": {
  "kernelspec": {
   "display_name": "Python 3 (ipykernel)",
   "language": "python",
   "name": "python3"
  },
  "language_info": {
   "codemirror_mode": {
    "name": "ipython",
    "version": 3
   },
   "file_extension": ".py",
   "mimetype": "text/x-python",
   "name": "python",
   "nbconvert_exporter": "python",
   "pygments_lexer": "ipython3",
   "version": "3.13.3"
  }
 },
 "nbformat": 4,
 "nbformat_minor": 5
}
